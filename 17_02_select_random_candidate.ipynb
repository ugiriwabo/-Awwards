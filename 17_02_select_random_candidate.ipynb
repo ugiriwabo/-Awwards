{
  "nbformat": 4,
  "nbformat_minor": 0,
  "metadata": {
    "colab": {
      "provenance": [],
      "authorship_tag": "ABX9TyO0iDXbYlnJ7ROL3gLElAIx",
      "include_colab_link": true
    },
    "kernelspec": {
      "name": "python3",
      "display_name": "Python 3"
    },
    "language_info": {
      "name": "python"
    }
  },
  "cells": [
    {
      "cell_type": "markdown",
      "metadata": {
        "id": "view-in-github",
        "colab_type": "text"
      },
      "source": [
        "<a href=\"https://colab.research.google.com/github/ugiriwabo/-Awwards/blob/master/17_02_select_random_candidate.ipynb\" target=\"_parent\"><img src=\"https://colab.research.google.com/assets/colab-badge.svg\" alt=\"Open In Colab\"/></a>"
      ]
    },
    {
      "cell_type": "code",
      "execution_count": 1,
      "metadata": {
        "id": "o3gT1-xk4jbP"
      },
      "outputs": [],
      "source": [
        "import random\n"
      ]
    },
    {
      "cell_type": "code",
      "source": [
        "# biased hiring algo\n",
        "\n",
        "candidates = [{'name':'James', 'gender':'M', 'age':25}, {'name':'Jane', 'gender':'F', 'age':35}, {'name':'Mutesi', 'gender':'F', 'age':15}]\n",
        "\n",
        "def biased_hire (candidates):\n",
        "  return [candidate for candidate in candidates if candidate['age']>30]\n",
        "print(\"Biased_hire:\", biased_hire(candidates))\n",
        "\n",
        "\n",
        "def fair_hire(candidates) :\n",
        "  return random.choice(candidates)\n",
        "print (\"Fair hiring:\", fair_hire(candidates))"
      ],
      "metadata": {
        "colab": {
          "base_uri": "https://localhost:8080/"
        },
        "id": "MzJIiLMB4oQB",
        "outputId": "fb4ec23c-3ea9-4524-ca30-d4cbed4df332"
      },
      "execution_count": 14,
      "outputs": [
        {
          "output_type": "stream",
          "name": "stdout",
          "text": [
            "Biased_hire: [{'name': 'Jane', 'gender': 'F', 'age': 35}]\n",
            "Fair hiring: {'name': 'Jane', 'gender': 'F', 'age': 35}\n"
          ]
        }
      ]
    }
  ]
}